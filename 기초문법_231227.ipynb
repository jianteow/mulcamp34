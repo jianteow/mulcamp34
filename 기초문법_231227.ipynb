{
  "nbformat": 4,
  "nbformat_minor": 0,
  "metadata": {
    "colab": {
      "provenance": [],
      "authorship_tag": "ABX9TyML00XIb8RMjwDf0/D1b+Zy",
      "include_colab_link": true
    },
    "kernelspec": {
      "name": "python3",
      "display_name": "Python 3"
    },
    "language_info": {
      "name": "python"
    }
  },
  "cells": [
    {
      "cell_type": "markdown",
      "metadata": {
        "id": "view-in-github",
        "colab_type": "text"
      },
      "source": [
        "<a href=\"https://colab.research.google.com/github/jianteow/mulcamp34/blob/main/%EA%B8%B0%EC%B4%88%EB%AC%B8%EB%B2%95_231227.ipynb\" target=\"_parent\"><img src=\"https://colab.research.google.com/assets/colab-badge.svg\" alt=\"Open In Colab\"/></a>"
      ]
    },
    {
      "cell_type": "code",
      "execution_count": null,
      "metadata": {
        "id": "ZywYQa9fo6V-"
      },
      "outputs": [],
      "source": []
    },
    {
      "cell_type": "markdown",
      "source": [
        "# Chapter 3. 파이썬을 계산기처럼\n",
        "- 2015~2016 : Java 웹 안드로이드 앱 개발\n",
        "- R  \n",
        "- 2017~2018 R 분석용으로 좋음 웹 단점 부각\n",
        "- 회사의 실 선호는 웹\n",
        "- Physon 부각\n",
        "- why ; 범용성---> 데이터분석, 간단한 프로그램, 앱개발, 보안관련, 게임개발 가능\n"
      ],
      "metadata": {
        "id": "FT5RLdC4o8fB"
      }
    },
    {
      "cell_type": "code",
      "source": [
        "1+1"
      ],
      "metadata": {
        "colab": {
          "base_uri": "https://localhost:8080/"
        },
        "id": "efI_Sdh8pITp",
        "outputId": "b1e73854-f8ea-4ce5-b5f8-721f0981c6a8"
      },
      "execution_count": null,
      "outputs": [
        {
          "output_type": "execute_result",
          "data": {
            "text/plain": [
              "2"
            ]
          },
          "metadata": {},
          "execution_count": 1
        }
      ]
    },
    {
      "cell_type": "code",
      "source": [
        "5-2"
      ],
      "metadata": {
        "colab": {
          "base_uri": "https://localhost:8080/"
        },
        "id": "GBFGzTVQrYdJ",
        "outputId": "f95d375a-8ae4-43e7-905d-9ff10d4bd510"
      },
      "execution_count": null,
      "outputs": [
        {
          "output_type": "execute_result",
          "data": {
            "text/plain": [
              "3"
            ]
          },
          "metadata": {},
          "execution_count": 2
        }
      ]
    },
    {
      "cell_type": "code",
      "source": [
        "5 - 2"
      ],
      "metadata": {
        "colab": {
          "base_uri": "https://localhost:8080/"
        },
        "id": "rCv-DOlUrbC_",
        "outputId": "ade43cf6-c66e-4937-a4ea-387fe48aae70"
      },
      "execution_count": null,
      "outputs": [
        {
          "output_type": "execute_result",
          "data": {
            "text/plain": [
              "3"
            ]
          },
          "metadata": {},
          "execution_count": 3
        }
      ]
    },
    {
      "cell_type": "code",
      "source": [
        "15*2"
      ],
      "metadata": {
        "colab": {
          "base_uri": "https://localhost:8080/"
        },
        "id": "FymOBoG-ri2t",
        "outputId": "7a40037f-e325-40b7-fee5-7c66d8bcfbd1"
      },
      "execution_count": null,
      "outputs": [
        {
          "output_type": "execute_result",
          "data": {
            "text/plain": [
              "30"
            ]
          },
          "metadata": {},
          "execution_count": 4
        }
      ]
    },
    {
      "cell_type": "code",
      "source": [
        "#나눗셈\n",
        "#Python3.x 실수\n",
        "2.x 정수\n",
        "10/2\n",
        " #정수/정수===> 반환값은 실수형"
      ],
      "metadata": {
        "colab": {
          "base_uri": "https://localhost:8080/"
        },
        "id": "HdEW4q19ry50",
        "outputId": "72d25ce1-dd27-466f-8ca0-736e0af5525b"
      },
      "execution_count": null,
      "outputs": [
        {
          "output_type": "execute_result",
          "data": {
            "text/plain": [
              "5.0"
            ]
          },
          "metadata": {},
          "execution_count": 5
        }
      ]
    },
    {
      "cell_type": "markdown",
      "source": [
        "### 실수연산"
      ],
      "metadata": {
        "id": "XhPT-BpwsPq8"
      }
    },
    {
      "cell_type": "code",
      "source": [
        "print(1.2+5.2)  # 덧셈\n",
        "print(6.3-4.7) # 뺄셈\n",
        "4.8*6.1 #곱셈"
      ],
      "metadata": {
        "colab": {
          "base_uri": "https://localhost:8080/"
        },
        "id": "Z0BlBGiCsOW_",
        "outputId": "12eee2bc-3687-4032-e865-c5834945cd9e"
      },
      "execution_count": null,
      "outputs": [
        {
          "output_type": "stream",
          "name": "stdout",
          "text": [
            "6.4\n",
            "1.5999999999999996\n"
          ]
        },
        {
          "output_type": "execute_result",
          "data": {
            "text/plain": [
              "29.279999999999998"
            ]
          },
          "metadata": {},
          "execution_count": 10
        }
      ]
    },
    {
      "cell_type": "markdown",
      "source": [
        "### 연산규칙\n",
        "\n",
        "-(1) 괄호안 계산\n",
        "- (2) 지수 계산\n",
        "-(3) 곱셈과 나눗셈 계산\n",
        "-(4) 덧셈과 뺄셈 계산\n",
        "-(5) 같은 순위 연산이면, 완쪽에서 오른쪽\n",
        "-(6) 중복된 괄호가 잇을 경우, 안쪽에서부터 처리"
      ],
      "metadata": {
        "id": "aRfwHnaHtYaL"
      }
    },
    {
      "cell_type": "code",
      "source": [
        "print(2+3*4)"
      ],
      "metadata": {
        "colab": {
          "base_uri": "https://localhost:8080/"
        },
        "id": "z9WdN3tNt5yd",
        "outputId": "e2be8e1c-42ed-421d-ba1a-c53f6b5713fb"
      },
      "execution_count": null,
      "outputs": [
        {
          "output_type": "stream",
          "name": "stdout",
          "text": [
            "14\n"
          ]
        }
      ]
    },
    {
      "cell_type": "code",
      "source": [
        "print(3/2*4-5/2)"
      ],
      "metadata": {
        "colab": {
          "base_uri": "https://localhost:8080/"
        },
        "id": "wqJ_77iiuAeY",
        "outputId": "1e6f8d7b-b484-4fc9-d030-610c982ed03a"
      },
      "execution_count": null,
      "outputs": [
        {
          "output_type": "stream",
          "name": "stdout",
          "text": [
            "3.5\n"
          ]
        }
      ]
    },
    {
      "cell_type": "code",
      "source": [
        "print((5*4-15)+(5-2)*(9-7))\n"
      ],
      "metadata": {
        "colab": {
          "base_uri": "https://localhost:8080/"
        },
        "id": "p1cSTHtAuSet",
        "outputId": "f49cf722-922b-467d-8df8-db06dc9e83b3"
      },
      "execution_count": null,
      "outputs": [
        {
          "output_type": "stream",
          "name": "stdout",
          "text": [
            "11\n"
          ]
        }
      ]
    },
    {
      "cell_type": "markdown",
      "source": [
        "##type()\n",
        "- 함수 : 특정기능을 수행하도록 만든 블랙박스\n",
        " + 특정함수를 조건만 맞춰주면 동작"
      ],
      "metadata": {
        "id": "lNCAjUFruvT0"
      }
    },
    {
      "cell_type": "markdown",
      "source": [
        "함수의 종류치연산 주요 라이즈러리\n",
        "- 내장(buil-in) 함수 : 파이썬 설치와 함께 제공하는 기본적인 함수\n",
        " + print(), type()\n",
        " + 종류는 몇개? 몰라요...\n",
        " + 5~8주차 Documentation : 함수를 설명해주는 문서 보는 법 익힐 것 (영어)\n",
        "\n",
        "- 라이브러리에서 제공하는 함수\n",
        " + R : 패키지, Python : 라이브러리\n",
        " + 목적이 분명\n",
        "  - 웹 사이트 개발 : 웹사이트와 관련된 라이브러리를 별고 설치\n",
        "  - 통계분석 : 통계분석\n",
        "  - 시각화 : 시각화와 관련\n",
        "  - 게임개발 : 개임개발과 관련된\n",
        "  - 수치연산 주요 라이브러리 : numpy(주), scipy : 통계책으로 실습 예정"
      ],
      "metadata": {
        "id": "5BhQJZh_zqMY"
      }
    },
    {
      "cell_type": "code",
      "source": [
        "# 파이션에서 정수를 어떻게 표현할까?\n",
        "#            실수\n",
        "print(type(3))"
      ],
      "metadata": {
        "id": "VII2t9UJvEyV",
        "colab": {
          "base_uri": "https://localhost:8080/"
        },
        "outputId": "f8586ace-3c9e-441b-e484-07a0110bf016"
      },
      "execution_count": 17,
      "outputs": [
        {
          "output_type": "stream",
          "name": "stdout",
          "text": [
            "<class 'int'>\n"
          ]
        }
      ]
    },
    {
      "cell_type": "code",
      "source": [
        "print(type(3.5))\n"
      ],
      "metadata": {
        "colab": {
          "base_uri": "https://localhost:8080/"
        },
        "id": "xpjBLwIVu3Se",
        "outputId": "7b0f5101-ec96-473d-f9ce-030a3edc7362"
      },
      "execution_count": null,
      "outputs": [
        {
          "output_type": "stream",
          "name": "stdout",
          "text": [
            "<class 'float'>\n"
          ]
        }
      ]
    },
    {
      "cell_type": "code",
      "source": [
        "print(type(~~~))"
      ],
      "metadata": {
        "colab": {
          "base_uri": "https://localhost:8080/",
          "height": 147
        },
        "id": "e6QNXqLmyqPR",
        "outputId": "8aaf0f57-8017-4ea3-d94f-bde8c7cd116f"
      },
      "execution_count": 18,
      "outputs": [
        {
          "output_type": "error",
          "ename": "SyntaxError",
          "evalue": "ignored",
          "traceback": [
            "\u001b[0;36m  File \u001b[0;32m\"<ipython-input-18-4204741c7bce>\"\u001b[0;36m, line \u001b[0;32m1\u001b[0m\n\u001b[0;31m    print(type(~~~))\u001b[0m\n\u001b[0m                  ^\u001b[0m\n\u001b[0;31mSyntaxError\u001b[0m\u001b[0;31m:\u001b[0m invalid syntax\n"
          ]
        }
      ]
    },
    {
      "cell_type": "markdown",
      "source": [
        " - 파이썬은 객체지향 언어입니다."
      ],
      "metadata": {
        "id": "eaxivDu81xqV"
      }
    },
    {
      "cell_type": "markdown",
      "source": [
        "## 거듭제곱과 나머지\n",
        "- 숫자 A를 n번 곱하는 거듭제곱(Power)\n",
        " + A는 밑, n을 지수라고 표현"
      ],
      "metadata": {
        "id": "eiJ7RR-Z2A4z"
      }
    },
    {
      "cell_type": "code",
      "source": [
        "print(2*2*2*2*2)"
      ],
      "metadata": {
        "colab": {
          "base_uri": "https://localhost:8080/"
        },
        "id": "73tncFVl2WK5",
        "outputId": "c3f87730-1958-46ab-8be1-425fd6a56be5"
      },
      "execution_count": 19,
      "outputs": [
        {
          "output_type": "stream",
          "name": "stdout",
          "text": [
            "32\n"
          ]
        }
      ]
    },
    {
      "cell_type": "code",
      "source": [
        "print(2**5) # 거듭제곱"
      ],
      "metadata": {
        "colab": {
          "base_uri": "https://localhost:8080/"
        },
        "id": "LSbbWRzV2cH-",
        "outputId": "eb6bb3ef-54f2-402e-cc85-cfc016155ca1"
      },
      "execution_count": 20,
      "outputs": [
        {
          "output_type": "stream",
          "name": "stdout",
          "text": [
            "32\n"
          ]
        }
      ]
    },
    {
      "cell_type": "markdown",
      "source": [
        "- 나머지"
      ],
      "metadata": {
        "id": "zbFHOZeD2r8H"
      }
    },
    {
      "cell_type": "code",
      "source": [
        " 13%"
      ],
      "metadata": {
        "colab": {
          "base_uri": "https://localhost:8080/"
        },
        "id": "OcrpQ_Nq2vB5",
        "outputId": "c67f7a04-bba4-4eb0-c5cd-bef2c9002779"
      },
      "execution_count": 22,
      "outputs": [
        {
          "output_type": "execute_result",
          "data": {
            "text/plain": [
              "3"
            ]
          },
          "metadata": {},
          "execution_count": 22
        }
      ]
    },
    {
      "cell_type": "code",
      "source": [
        "# 몫을 구하고 싶음\n",
        "13//5\n"
      ],
      "metadata": {
        "colab": {
          "base_uri": "https://localhost:8080/"
        },
        "id": "9f0_6giA21aZ",
        "outputId": "23eccb91-96f2-4124-f33c-2f468e3e8e9b"
      },
      "execution_count": 21,
      "outputs": [
        {
          "output_type": "execute_result",
          "data": {
            "text/plain": [
              "2"
            ]
          },
          "metadata": {},
          "execution_count": 21
        }
      ]
    },
    {
      "cell_type": "markdown",
      "source": [
        "- 교재 표 3-1( p34) 산술연산자 표 정리"
      ],
      "metadata": {
        "id": "ptvyCl4o2_n2"
      }
    },
    {
      "cell_type": "markdown",
      "source": [
        "## 과학적 표기법\n",
        "- 아주 큰 수, 아주 작은 수를 다뤄야 하는 케이스\n",
        " + 빛은 초당 30만 Km\n",
        " + 단위를 m/s로 표현하면, 300,000,000 m/s\n",
        " +3*10^8\n",
        ""
      ],
      "metadata": {
        "id": "eC7KnZZ43gjl"
      }
    },
    {
      "cell_type": "code",
      "source": [
        "3*10**8"
      ],
      "metadata": {
        "colab": {
          "base_uri": "https://localhost:8080/"
        },
        "id": "d2Zm8_vh4QCl",
        "outputId": "7fbee375-c4df-4ca9-829a-920fca1a587b"
      },
      "execution_count": 23,
      "outputs": [
        {
          "output_type": "execute_result",
          "data": {
            "text/plain": [
              "300000000"
            ]
          },
          "metadata": {},
          "execution_count": 23
        }
      ]
    },
    {
      "cell_type": "code",
      "source": [
        "3e8  #과학적 표기  cf. 자연로그e에 대한것은 별도 라이브러리 존재"
      ],
      "metadata": {
        "colab": {
          "base_uri": "https://localhost:8080/"
        },
        "id": "Vw70iabu4S5Z",
        "outputId": "7a57c543-a6c5-47e9-e4be-0633b5d84eeb"
      },
      "execution_count": 24,
      "outputs": [
        {
          "output_type": "execute_result",
          "data": {
            "text/plain": [
              "300000000.0"
            ]
          },
          "metadata": {},
          "execution_count": 24
        }
      ]
    },
    {
      "cell_type": "code",
      "source": [
        "print(3e-4) # 소수점 n 번째 자리 scientific notation\n"
      ],
      "metadata": {
        "colab": {
          "base_uri": "https://localhost:8080/"
        },
        "id": "YnUVeNx34lBR",
        "outputId": "ac4a13d3-8611-42ef-c8d6-41e01dbb4c86"
      },
      "execution_count": 29,
      "outputs": [
        {
          "output_type": "stream",
          "name": "stdout",
          "text": [
            "0.0003\n"
          ]
        }
      ]
    },
    {
      "cell_type": "markdown",
      "source": [
        "##진수 표현과 변환\n",
        " - 우리 일상 10 진법\n",
        " - 60진법 : 60초가 1분이고, 60분이 1시간\n",
        " - 12진법 : 오전 12시간, 오후12시간 1년 12달\n",
        " - 컴퓨터 프로그래밍 , 숫자 0과 1로 이루어진 2진법 수행\n",
        " - 8진법 : 0~7까지의 숫자\n",
        " - 16진법 : 0~9, a,b, c,d,e,f\n",
        " - 메서드\n",
        "  + bin() : 10진수를 2진수로 변환\n",
        "  + oct() : 10진수를 8진수로\n",
        "  + hex() : 10진수를 16진수로"
      ],
      "metadata": {
        "id": "PJJ0VG6r5PL8"
      }
    },
    {
      "cell_type": "code",
      "source": [
        "17 # 10진법"
      ],
      "metadata": {
        "id": "TB2q0M1Q6T5i"
      },
      "execution_count": null,
      "outputs": []
    },
    {
      "cell_type": "code",
      "source": [
        "0b10001 # 2진법"
      ],
      "metadata": {
        "id": "5-I2Yt6E6UTq"
      },
      "execution_count": null,
      "outputs": []
    },
    {
      "cell_type": "code",
      "source": [
        "0o21 # 8진법"
      ],
      "metadata": {
        "id": "UHqbm2iA6fKg"
      },
      "execution_count": null,
      "outputs": []
    },
    {
      "cell_type": "code",
      "source": [
        "0x11 # 16진법"
      ],
      "metadata": {
        "id": "Y2HnNffi6mRJ"
      },
      "execution_count": null,
      "outputs": []
    },
    {
      "cell_type": "markdown",
      "source": [
        "## 논리 연산 및 비교연산 (매우 중요!)\n",
        " - 참/거짓\n",
        " - 논리 연산을 잘 활용하는 것이 프로그래밍의 핵심\n"
      ],
      "metadata": {
        "id": "0v3VuHJK7KHg"
      }
    },
    {
      "cell_type": "code",
      "source": [
        "print((True))"
      ],
      "metadata": {
        "colab": {
          "base_uri": "https://localhost:8080/"
        },
        "id": "paEgvk5u714r",
        "outputId": "b53d7abe-8d3d-4a48-d24f-9a9164301e4c"
      },
      "execution_count": 30,
      "outputs": [
        {
          "output_type": "stream",
          "name": "stdout",
          "text": [
            "True\n"
          ]
        }
      ]
    },
    {
      "cell_type": "code",
      "source": [
        "print((False))"
      ],
      "metadata": {
        "colab": {
          "base_uri": "https://localhost:8080/"
        },
        "id": "hUSgcfH07_Q7",
        "outputId": "7efbf998-9a42-4faa-b482-e3e59b08416d"
      },
      "execution_count": 32,
      "outputs": [
        {
          "output_type": "stream",
          "name": "stdout",
          "text": [
            "False\n"
          ]
        }
      ]
    },
    {
      "cell_type": "code",
      "source": [
        "print(type((True)))"
      ],
      "metadata": {
        "colab": {
          "base_uri": "https://localhost:8080/"
        },
        "id": "gJ0QquTo8GbI",
        "outputId": "739700a3-69c7-463a-e289-85f712bb3745"
      },
      "execution_count": 33,
      "outputs": [
        {
          "output_type": "stream",
          "name": "stdout",
          "text": [
            "<class 'bool'>\n"
          ]
        }
      ]
    },
    {
      "cell_type": "markdown",
      "source": [
        "## 논리 연산자\n",
        " - and : A and B : A와 B 모두 참일 때 참\n",
        " - or : A or B : A 또는 B 중 하나라도 참이면 참, 둘 다 거짓일 때 거짓\n",
        " - not : noe A : A가 참일 때 거짓, A가 거짓이면 참"
      ],
      "metadata": {
        "id": "dokbvlXf8UAz"
      }
    },
    {
      "cell_type": "code",
      "source": [
        "# 교집합\n",
        "print(True and True)\n",
        "print(True and False)\n",
        "print(False and False)"
      ],
      "metadata": {
        "colab": {
          "base_uri": "https://localhost:8080/"
        },
        "id": "tyjNcxeyBT3q",
        "outputId": "906abf5e-2d2a-4f8b-a2f3-367e83317e62"
      },
      "execution_count": 34,
      "outputs": [
        {
          "output_type": "stream",
          "name": "stdout",
          "text": [
            "True\n",
            "False\n",
            "False\n"
          ]
        }
      ]
    },
    {
      "cell_type": "code",
      "source": [
        "# 합집합\n",
        "print(True or True)  # True 또는 True가 결과로  나오도록 \"의도적으로\" 만들어야함\n",
        "print(False or False)"
      ],
      "metadata": {
        "colab": {
          "base_uri": "https://localhost:8080/"
        },
        "id": "I7otrIINBo0J",
        "outputId": "e6bb1090-3754-4ef4-e617-d34a0de9b386"
      },
      "execution_count": 35,
      "outputs": [
        {
          "output_type": "stream",
          "name": "stdout",
          "text": [
            "True\n",
            "True\n",
            "False\n"
          ]
        }
      ]
    },
    {
      "cell_type": "code",
      "source": [
        "print(not True)\n",
        "print(not False)\n"
      ],
      "metadata": {
        "colab": {
          "base_uri": "https://localhost:8080/"
        },
        "id": "TywE_sAdB8Y5",
        "outputId": "031d7629-a2e8-40ad-8568-b834fa3ebf45"
      },
      "execution_count": 36,
      "outputs": [
        {
          "output_type": "stream",
          "name": "stdout",
          "text": [
            "False\n",
            "True\n"
          ]
        }
      ]
    },
    {
      "cell_type": "markdown",
      "source": [
        "비교연산지"
      ],
      "metadata": {
        "id": "LSPcWevCCgk3"
      }
    },
    {
      "cell_type": "code",
      "source": [
        "# True 또는 True가 결과로  나오도록 \"의도적으로\" 만들어야함\n",
        "1 == 1"
      ],
      "metadata": {
        "colab": {
          "base_uri": "https://localhost:8080/"
        },
        "id": "lAdMSt8CCiUQ",
        "outputId": "c79743e7-bb70-405c-ffe1-4f672daef4fd"
      },
      "execution_count": 39,
      "outputs": [
        {
          "output_type": "execute_result",
          "data": {
            "text/plain": [
              "True"
            ]
          },
          "metadata": {},
          "execution_count": 39
        }
      ]
    },
    {
      "cell_type": "code",
      "source": [
        "1 == 2"
      ],
      "metadata": {
        "colab": {
          "base_uri": "https://localhost:8080/"
        },
        "id": "he1qvyJyCl4k",
        "outputId": "e15f1d20-7f36-49b6-98b8-56aea4f483aa"
      },
      "execution_count": 40,
      "outputs": [
        {
          "output_type": "execute_result",
          "data": {
            "text/plain": [
              "False"
            ]
          },
          "metadata": {},
          "execution_count": 40
        }
      ]
    },
    {
      "cell_type": "code",
      "source": [
        "1!=2  # a와 b는 같지 않다"
      ],
      "metadata": {
        "colab": {
          "base_uri": "https://localhost:8080/"
        },
        "id": "nAdK2yVnDF5c",
        "outputId": "3fc9e3a0-aaef-4a72-a9fb-a0b18ed69fbd"
      },
      "execution_count": 41,
      "outputs": [
        {
          "output_type": "execute_result",
          "data": {
            "text/plain": [
              "True"
            ]
          },
          "metadata": {},
          "execution_count": 41
        }
      ]
    },
    {
      "cell_type": "code",
      "source": [
        "1<=2  # a와 b는 같거나 작다"
      ],
      "metadata": {
        "colab": {
          "base_uri": "https://localhost:8080/"
        },
        "id": "aw6hbJ0tDTBK",
        "outputId": "be1c1354-c47a-426c-fa0a-a595a78792db"
      },
      "execution_count": 42,
      "outputs": [
        {
          "output_type": "execute_result",
          "data": {
            "text/plain": [
              "True"
            ]
          },
          "metadata": {},
          "execution_count": 42
        }
      ]
    },
    {
      "cell_type": "code",
      "source": [
        "1< 2 # a와 b보다 작다"
      ],
      "metadata": {
        "colab": {
          "base_uri": "https://localhost:8080/"
        },
        "id": "y0gZ8qvhDfYq",
        "outputId": "50b3ede0-7bc3-46bc-a769-a98e0aba4b22"
      },
      "execution_count": 44,
      "outputs": [
        {
          "output_type": "execute_result",
          "data": {
            "text/plain": [
              "True"
            ]
          },
          "metadata": {},
          "execution_count": 44
        }
      ]
    },
    {
      "cell_type": "code",
      "source": [
        "1 >= 2 # a는 b는 같거나 크다"
      ],
      "metadata": {
        "colab": {
          "base_uri": "https://localhost:8080/"
        },
        "id": "xRY3l6xpDnIP",
        "outputId": "208b2887-9457-4e2c-8ca5-26ab2e4d2e30"
      },
      "execution_count": 45,
      "outputs": [
        {
          "output_type": "execute_result",
          "data": {
            "text/plain": [
              "False"
            ]
          },
          "metadata": {},
          "execution_count": 45
        }
      ]
    },
    {
      "cell_type": "code",
      "source": [
        "1 > 2 # a는 b보다 크다"
      ],
      "metadata": {
        "colab": {
          "base_uri": "https://localhost:8080/"
        },
        "id": "qMHDQ34SDpyg",
        "outputId": "887f1be6-b4c2-418b-c45c-397c421d4d91"
      },
      "execution_count": 46,
      "outputs": [
        {
          "output_type": "execute_result",
          "data": {
            "text/plain": [
              "False"
            ]
          },
          "metadata": {},
          "execution_count": 46
        }
      ]
    },
    {
      "cell_type": "markdown",
      "source": [
        "### 비교연산자 + 논리연산지"
      ],
      "metadata": {
        "id": "RM4Q4ocrD9Im"
      }
    },
    {
      "cell_type": "code",
      "source": [
        "1 > 0 and -2 < 0  # 비교연산자 (1순의) 논리연산자 (2순의)\n",
        " true and true"
      ],
      "metadata": {
        "colab": {
          "base_uri": "https://localhost:8080/"
        },
        "id": "Zv8S_SOuEDBn",
        "outputId": "30fcce93-ed28-4b93-fe89-9ba21368f206"
      },
      "execution_count": 47,
      "outputs": [
        {
          "output_type": "execute_result",
          "data": {
            "text/plain": [
              "True"
            ]
          },
          "metadata": {},
          "execution_count": 47
        }
      ]
    },
    {
      "cell_type": "code",
      "source": [
        "(3 < 0) and (-5 > 0) and ( 1 > 5)\n",
        "true and   False  and true\n",
        " true and   False ,  False  and true"
      ],
      "metadata": {
        "colab": {
          "base_uri": "https://localhost:8080/"
        },
        "id": "M3TZHWQ1Ea-R",
        "outputId": "aa917a7a-dad9-4fb7-94dc-15eb71a92deb"
      },
      "execution_count": 48,
      "outputs": [
        {
          "output_type": "execute_result",
          "data": {
            "text/plain": [
              "False"
            ]
          },
          "metadata": {},
          "execution_count": 48
        }
      ]
    },
    {
      "cell_type": "markdown",
      "source": [
        " ## github 활용법\n",
        "\n",
        "  - 그룹핑\n",
        "   + Repo 1. 학습/ 교육 :  edu, MulCamp - lecture\n",
        "     = 시각화, djamgo, pandas\n",
        "   + Repo 2. Projects\n",
        "   + Repo 3. 00 공모전\n",
        "\n",
        " - 옵션() :  자기소개 Repo\n",
        "  + 링크추가(Repo2)\n",
        "\n",
        "\n",
        "--- 이렇게는 금지\n",
        "- mulcamp24_1227\n",
        "- mulcamp24_1228\n",
        "\n"
      ],
      "metadata": {
        "id": "ys0T5c3xdhK8"
      }
    },
    {
      "cell_type": "markdown",
      "source": [
        "# Chapter 4. 변수와 자료형"
      ],
      "metadata": {
        "id": "SjxK5N0BpItt"
      }
    },
    {
      "cell_type": "markdown",
      "source": [
        "## 변수 : Variable  (p. 42)\n",
        "\n",
        "  "
      ],
      "metadata": {
        "id": "6Ng0FPR0fEGy"
      }
    },
    {
      "cell_type": "markdown",
      "source": [
        "변수명 = data\n",
        "오른쪽에서 왼쪽 진행\n",
        "data를 변수 명에 할당하는 것."
      ],
      "metadata": {
        "id": "kgHW5NR7fZ92"
      }
    },
    {
      "cell_type": "code",
      "source": [
        "a=1     # 변수 : Variable, 데이타\n",
        "print(a)"
      ],
      "metadata": {
        "colab": {
          "base_uri": "https://localhost:8080/"
        },
        "id": "YIHzYf-eetdT",
        "outputId": "94d915c8-5fa8-4cfe-844b-ab99a1e59b81"
      },
      "execution_count": 56,
      "outputs": [
        {
          "output_type": "stream",
          "name": "stdout",
          "text": [
            "1\n"
          ]
        }
      ]
    },
    {
      "cell_type": "code",
      "source": [
        "print(a)     # data 수정 후 \"실행\" 해야 변경 값 반영 됨 ' 런타임'> 이후 셀 실행\n"
      ],
      "metadata": {
        "colab": {
          "base_uri": "https://localhost:8080/"
        },
        "id": "GoDog-n2fs78",
        "outputId": "9d87df2c-8793-4b24-a486-463aa22f19fa"
      },
      "execution_count": 55,
      "outputs": [
        {
          "output_type": "stream",
          "name": "stdout",
          "text": [
            "100\n"
          ]
        }
      ]
    },
    {
      "cell_type": "code",
      "source": [
        "a = 1000\n",
        "b + 1110\n",
        "#\n",
        "#\n",
        "#\n",
        "#"
      ],
      "metadata": {
        "id": "l59H011ogndI"
      },
      "execution_count": null,
      "outputs": []
    },
    {
      "cell_type": "markdown",
      "source": [
        "### 변수명 짓기 규칙\n",
        " - snake, camel"
      ],
      "metadata": {
        "id": "Fjq0fGtsg2nu"
      }
    },
    {
      "cell_type": "code",
      "source": [
        "# snake\n",
        "num_a = 100\n",
        "num_b = 110\n",
        "\n",
        "#camel\n",
        "myStudent = \"evan\" #  변수명 작성시 공백 불가\n",
        "mySchool = \"학교이름\"\n",
        "\n",
        "# 주의사할\n",
        "3star = \"이장군\"  # 앞에 숫자가 오면 안됨\n"
      ],
      "metadata": {
        "colab": {
          "base_uri": "https://localhost:8080/",
          "height": 147
        },
        "id": "xiECMKVkhARt",
        "outputId": "d1165da6-eb66-4eaf-cb87-7fe1ead3cf9f"
      },
      "execution_count": 4,
      "outputs": [
        {
          "output_type": "error",
          "ename": "SyntaxError",
          "evalue": "ignored",
          "traceback": [
            "\u001b[0;36m  File \u001b[0;32m\"<ipython-input-4-eb08f0719773>\"\u001b[0;36m, line \u001b[0;32m10\u001b[0m\n\u001b[0;31m    3star = \"이장군\"  # 앞에 숫자가 오면 안됨\u001b[0m\n\u001b[0m    ^\u001b[0m\n\u001b[0;31mSyntaxError\u001b[0m\u001b[0;31m:\u001b[0m invalid decimal literal\n"
          ]
        }
      ]
    },
    {
      "cell_type": "code",
      "source": [
        "# print = 100\n",
        "print(num_a)  # 내장함수명을 변수명으로 만들면 안됨 !\n"
      ],
      "metadata": {
        "colab": {
          "base_uri": "https://localhost:8080/",
          "height": 203
        },
        "id": "NxfTa9xRiBWu",
        "outputId": "cdbcbf57-61a1-432b-c66c-10cba34ac52d"
      },
      "execution_count": 8,
      "outputs": [
        {
          "output_type": "error",
          "ename": "NameError",
          "evalue": "ignored",
          "traceback": [
            "\u001b[0;31m---------------------------------------------------------------------------\u001b[0m",
            "\u001b[0;31mNameError\u001b[0m                                 Traceback (most recent call last)",
            "\u001b[0;32m<ipython-input-8-4f2572ada236>\u001b[0m in \u001b[0;36m<cell line: 2>\u001b[0;34m()\u001b[0m\n\u001b[1;32m      1\u001b[0m \u001b[0;31m# print = 100\u001b[0m\u001b[0;34m\u001b[0m\u001b[0;34m\u001b[0m\u001b[0m\n\u001b[0;32m----> 2\u001b[0;31m \u001b[0mprint\u001b[0m\u001b[0;34m(\u001b[0m\u001b[0mnum_a\u001b[0m\u001b[0;34m)\u001b[0m  \u001b[0;31m# 내장함수명을 변수명으로 만들면 안됨 !\u001b[0m\u001b[0;34m\u001b[0m\u001b[0;34m\u001b[0m\u001b[0m\n\u001b[0m",
            "\u001b[0;31mNameError\u001b[0m: name 'num_a' is not defined"
          ]
        }
      ]
    },
    {
      "cell_type": "code",
      "source": [],
      "metadata": {
        "id": "c8oZlivLhzWO"
      },
      "execution_count": 4,
      "outputs": []
    },
    {
      "cell_type": "code",
      "source": [
        "num = 1\n",
        "Num = 100"
      ],
      "metadata": {
        "id": "nk9Nh6_rivPU"
      },
      "execution_count": 2,
      "outputs": []
    },
    {
      "cell_type": "code",
      "source": [
        "print(num)\n",
        "print(Num)"
      ],
      "metadata": {
        "colab": {
          "base_uri": "https://localhost:8080/"
        },
        "id": "9PwLlBIDivHN",
        "outputId": "62dd3965-ece2-459a-eacc-0ee988a375e8"
      },
      "execution_count": 3,
      "outputs": [
        {
          "output_type": "stream",
          "name": "stdout",
          "text": [
            "1\n",
            "100\n"
          ]
        }
      ]
    },
    {
      "cell_type": "markdown",
      "source": [
        "### 예약어는 변수명으로 이용 할 수 없음 (p.45)\n",
        " - print, True, etc, Name\n"
      ],
      "metadata": {
        "id": "zqIrLq8PlGT9"
      }
    },
    {
      "cell_type": "markdown",
      "source": [
        "### 변수의 반대어 : 상수\n",
        "- 한번 지정 후 변하지 않는 고정값"
      ],
      "metadata": {
        "id": "L72GfaGClcQK"
      }
    },
    {
      "cell_type": "code",
      "source": [],
      "metadata": {
        "id": "SSbaeNbZlrpD"
      },
      "execution_count": null,
      "outputs": []
    },
    {
      "cell_type": "code",
      "source": [
        "# 실제 변수를 만들어 보기\n",
        "num1 = input(\"숫자를 입력해주세요!!\")\n",
        "num2 = input(\"숫자를 입력해주세요!!\")\n",
        "\n",
        "print(num1,num2)"
      ],
      "metadata": {
        "colab": {
          "base_uri": "https://localhost:8080/"
        },
        "id": "QFBiRKhBlsGg",
        "outputId": "53e69f9b-4221-4f17-8d30-0ecd45524e81"
      },
      "execution_count": 7,
      "outputs": [
        {
          "output_type": "stream",
          "name": "stdout",
          "text": [
            "숫자를 입력해주세요!!4\n",
            "숫자를 입력해주세요!!6\n",
            "4 6\n"
          ]
        }
      ]
    },
    {
      "cell_type": "code",
      "source": [
        " # 상수\n",
        " pi = 3.14"
      ],
      "metadata": {
        "id": "hCjMRfTUrzfk"
      },
      "execution_count": null,
      "outputs": []
    },
    {
      "cell_type": "code",
      "source": [
        "# 실제 변수를 만들어보기\n",
        "num1 = input(\"숫자를 입력해주세요!!\")  # 숫자를 입력해도 기본값은 문자열로 반환 (함수특징)\n",
        "num2 = input(\"숫자를 입력해주세요!!\")\n",
        "\n",
        "print(num1, num2)"
      ],
      "metadata": {
        "colab": {
          "base_uri": "https://localhost:8080/"
        },
        "id": "34qPb1EVmfSz",
        "outputId": "f7ad55af-6daa-414b-98ec-753a39a2e269"
      },
      "execution_count": 8,
      "outputs": [
        {
          "output_type": "stream",
          "name": "stdout",
          "text": [
            "숫자를 입력해주세요!!100\n",
            "숫자를 입력해주세요!!200\n",
            "100 200\n"
          ]
        }
      ]
    },
    {
      "cell_type": "code",
      "source": [
        "\n",
        "print (num1 + num2)"
      ],
      "metadata": {
        "colab": {
          "base_uri": "https://localhost:8080/",
          "height": 35
        },
        "id": "uEWp8H76rxhz",
        "outputId": "1ae3861a-fabb-4771-bc47-21d8b3b0d823"
      },
      "execution_count": 10,
      "outputs": [
        {
          "output_type": "execute_result",
          "data": {
            "text/plain": [
              "'100200'"
            ],
            "application/vnd.google.colaboratory.intrinsic+json": {
              "type": "string"
            }
          },
          "metadata": {},
          "execution_count": 10
        }
      ]
    },
    {
      "cell_type": "code",
      "source": [
        "print(type(num1 ) )  # <class 'str'> 문자열\n",
        "print(type(num2) )   # <class 'str'> 문자열"
      ],
      "metadata": {
        "colab": {
          "base_uri": "https://localhost:8080/"
        },
        "id": "pXDDrXzRsUr6",
        "outputId": "9d8a479e-b54c-4bf1-e57e-9cd2424ca0dd"
      },
      "execution_count": 12,
      "outputs": [
        {
          "output_type": "stream",
          "name": "stdout",
          "text": [
            "<class 'str'>\n",
            "<class 'str'>\n"
          ]
        }
      ]
    },
    {
      "cell_type": "code",
      "source": [
        "# 프로그래밍 문자열로 표현하고 싶다 !\n",
        " \"\" or ''\n",
        " 숫자, \"문자 \" # 숫자 와 달리 문자는 \"\"로 명시 해줘야 함"
      ],
      "metadata": {
        "id": "-lMbXskOrP0k"
      },
      "execution_count": null,
      "outputs": []
    },
    {
      "cell_type": "code",
      "source": [
        "a = '100'  # 문자열 100\n",
        "b = '5000' # 문자열 5000\n"
      ],
      "metadata": {
        "id": "I9cNOF3PrgiF"
      },
      "execution_count": null,
      "outputs": []
    },
    {
      "cell_type": "code",
      "source": [
        "형 변환\n",
        "\n",
        "# 하고 싶은 것 : 사칙연산\n",
        "# 해결방안 : 문자열 100을 숫자 100으로 변경하면 될 것 같음\n",
        "#코드를 찾기"
      ],
      "metadata": {
        "id": "2OnTmpOss7PX"
      },
      "execution_count": null,
      "outputs": []
    },
    {
      "cell_type": "code",
      "source": [
        "print(int(\"100\"))\n",
        "print(type(int(\"100\")))"
      ],
      "metadata": {
        "colab": {
          "base_uri": "https://localhost:8080/"
        },
        "id": "YZqWxNhzthtH",
        "outputId": "fff75504-0ede-4a41-cf49-58d7174f1c4a"
      },
      "execution_count": 14,
      "outputs": [
        {
          "output_type": "stream",
          "name": "stdout",
          "text": [
            "100\n",
            "<class 'int'>\n"
          ]
        }
      ]
    },
    {
      "cell_type": "code",
      "source": [
        "string_num = \"42\"\n",
        "int_num = int(string_num)\n",
        "print(int_num)  # Output: 42"
      ],
      "metadata": {
        "colab": {
          "base_uri": "https://localhost:8080/"
        },
        "id": "hokI6fpau2_a",
        "outputId": "461a6487-ab70-4e10-a4f4-ac8e8e5004fe"
      },
      "execution_count": 15,
      "outputs": [
        {
          "output_type": "stream",
          "name": "stdout",
          "text": [
            "42\n"
          ]
        }
      ]
    },
    {
      "cell_type": "code",
      "source": [
        "num1 = \"100\"\n",
        "num2 = \"200\"\n",
        "\n",
        "num_a = int(num1)\n",
        "num_b = int(num2)\n",
        "print(int(num1) + int(num2))\n",
        "print(num_a +num_b)\n",
        "\n"
      ],
      "metadata": {
        "colab": {
          "base_uri": "https://localhost:8080/"
        },
        "id": "PC9bf-zjvM8f",
        "outputId": "83fd5764-4017-4d01-e137-305de968b97b"
      },
      "execution_count": 21,
      "outputs": [
        {
          "output_type": "stream",
          "name": "stdout",
          "text": [
            "300\n",
            "300\n"
          ]
        }
      ]
    },
    {
      "cell_type": "markdown",
      "source": [
        "## 문자열\n",
        " - \"\" (큰따음표) 또는  ''(작은 따음표) 지정   ''가 좀 더 적용이 잘됨\n"
      ],
      "metadata": {
        "id": "uif4fY52xUVl"
      }
    },
    {
      "cell_type": "code",
      "source": [
        "# 원칙 : \"\"  or '' , 혼용 안됨\n",
        "greeting = 'Hello String'\n",
        "print( greeting )"
      ],
      "metadata": {
        "colab": {
          "base_uri": "https://localhost:8080/"
        },
        "id": "gaqC5CwDxSOr",
        "outputId": "dfabd6d1-c610-4f52-b0a0-509aa1bd8f76"
      },
      "execution_count": 26,
      "outputs": [
        {
          "output_type": "stream",
          "name": "stdout",
          "text": [
            "Hello String\n"
          ]
        }
      ]
    },
    {
      "cell_type": "code",
      "source": [],
      "metadata": {
        "id": "f0BczT2Oyn0q"
      },
      "execution_count": null,
      "outputs": []
    },
    {
      "cell_type": "code",
      "source": [],
      "metadata": {
        "id": "z3tJdGwhynnR"
      },
      "execution_count": null,
      "outputs": []
    },
    {
      "cell_type": "code",
      "source": [
        "iong_string1 = '''\n",
        "문장이 긴 텍스트\n",
        "문장이 긴 텍스트1\n",
        "문장이 긴 텍스트2\n",
        "문장이 긴 텍스트3\n",
        "'''\n",
        "\n",
        "print(iong_string1)\n"
      ],
      "metadata": {
        "colab": {
          "base_uri": "https://localhost:8080/"
        },
        "id": "VF2u8NKdyxP9",
        "outputId": "ad56a180-c277-4552-e510-df3e3b5604c5"
      },
      "execution_count": 27,
      "outputs": [
        {
          "output_type": "stream",
          "name": "stdout",
          "text": [
            "\n",
            "문장이 긴 텍스트\n",
            "문장이 긴 텍스트1\n",
            "문장이 긴 텍스트2\n",
            "문장이 긴 텍스트3\n",
            "\n"
          ]
        }
      ]
    },
    {
      "cell_type": "code",
      "source": [
        "iong_string1 = \"\"\"\n",
        "문장이 긴 텍스트\n",
        "문장이 긴 텍스트1\n",
        "문장이 긴 텍스트2\n",
        "문장이 긴 텍스트3\n",
        "\"\"\"\n",
        "\n",
        "print(iong_string1)"
      ],
      "metadata": {
        "colab": {
          "base_uri": "https://localhost:8080/"
        },
        "id": "LNB7Rk-uzOCk",
        "outputId": "777f918d-833b-45c0-c704-eac7dcbd6d17"
      },
      "execution_count": 29,
      "outputs": [
        {
          "output_type": "stream",
          "name": "stdout",
          "text": [
            "\n",
            "문장이 긴 텍스트\n",
            "문장이 긴 텍스트1\n",
            "문장이 긴 텍스트2\n",
            "문장이 긴 텍스트3\n",
            "\n"
          ]
        }
      ]
    }
  ]
}